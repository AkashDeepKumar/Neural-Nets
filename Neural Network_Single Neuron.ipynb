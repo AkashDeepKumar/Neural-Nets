{
 "cells": [
  {
   "cell_type": "code",
   "execution_count": 1,
   "metadata": {},
   "outputs": [],
   "source": [
    "### DO NOT EDIT THIS CELL!!!\n",
    "### DO NOT IMPORT ANY ADDITIONAL PACKAGES\n",
    "\n",
    "import numpy as np\n",
    "import scipy\n",
    "from sklearn.metrics import accuracy_score\n",
    "from sklearn.metrics import r2_score, mean_squared_error\n",
    "import matplotlib.pyplot as plt\n",
    "%matplotlib inline"
   ]
  },
  {
   "cell_type": "markdown",
   "metadata": {},
   "source": [
    "### PART 1\n",
    "\n",
    "* Logistic Regression for Binary Classification using the breast cancer dataset\n",
    "\n",
    "* We aren't going to preprocess data or split into train/test since the focus here is purely on the gradient descent algorithm\n",
    "\n",
    "* NOTE: YOU WILL ONLY EDIT ONE CELL FOR PART-1 (SEE BELOW)"
   ]
  },
  {
   "cell_type": "code",
   "execution_count": 2,
   "metadata": {},
   "outputs": [
    {
     "name": "stdout",
     "output_type": "stream",
     "text": [
      "X:  (569, 30)\n",
      "y:  (569, 1)\n",
      "m:  569\n",
      "n:  30\n",
      "features:  ['mean radius' 'mean texture' 'mean perimeter' 'mean area'\n",
      " 'mean smoothness' 'mean compactness' 'mean concavity'\n",
      " 'mean concave points' 'mean symmetry' 'mean fractal dimension'\n",
      " 'radius error' 'texture error' 'perimeter error' 'area error'\n",
      " 'smoothness error' 'compactness error' 'concavity error'\n",
      " 'concave points error' 'symmetry error' 'fractal dimension error'\n",
      " 'worst radius' 'worst texture' 'worst perimeter' 'worst area'\n",
      " 'worst smoothness' 'worst compactness' 'worst concavity'\n",
      " 'worst concave points' 'worst symmetry' 'worst fractal dimension']\n"
     ]
    }
   ],
   "source": [
    "### DO NOT EDIT THIS CELL!!!\n",
    "\n",
    "# read the breast cancer dataset from sklearn\n",
    "from sklearn.datasets import load_breast_cancer\n",
    "\n",
    "dataset = load_breast_cancer()\n",
    "\n",
    "# feature matrix X: mxn\n",
    "X = dataset.data\n",
    "print (\"X: \", X.shape)\n",
    "\n",
    "# target vector y: mx1\n",
    "y = dataset.target\n",
    "y = y.reshape(y.shape[0], 1)\n",
    "print (\"y: \", y.shape)\n",
    "\n",
    "# number of samples: m\n",
    "m = X.shape[0]\n",
    "print (\"m: \", m)\n",
    "\n",
    "# number of features: n\n",
    "n = X.shape[1]\n",
    "features = dataset.feature_names\n",
    "print (\"n: \",n)\n",
    "print (\"features: \", features)"
   ]
  },
  {
   "cell_type": "code",
   "execution_count": 3,
   "metadata": {},
   "outputs": [
    {
     "name": "stdout",
     "output_type": "stream",
     "text": [
      "0.9191564147627417\n"
     ]
    },
    {
     "data": {
      "image/png": "[encoded data removed]",
      "text/plain": [
       "<Figure size 432x288 with 1 Axes>"
      ]
     },
     "metadata": {
      "needs_background": "light"
     },
     "output_type": "display_data"
    }
   ],
   "source": [
    "### THIS IS THE ONLY CELL YOU MUST EDIT FOR PART-1\n",
    "\n",
    "# train the logistic regression model\n",
    "\n",
    "# initialize nepochs, alpha and eps\n",
    "nepochs = 5000\n",
    "alpha = 2.5e-6\n",
    "eps=1e-8\n",
    "\n",
    "# initialize w and b\n",
    "w = np.zeros((n,1))\n",
    "b = 0\n",
    "\n",
    "# this list will collect loss for each iteration\n",
    "costs = []\n",
    "\n",
    "# repeat for nepochs\n",
    "### (1.1) YOUR CODE HERE\n",
    "for i in range(nepochs):\n",
    "\n",
    "    # forward pass (calculate current loss)\n",
    "    ### (1.2) YOUR CODE HERE\n",
    "    z = X@w + b\n",
    "    \n",
    "    yhat = scipy.special.expit(z)\n",
    "    \n",
    "    eps=1e-8\n",
    "    yhatClipped = np.maximum(eps, np.minimum(1 - eps, yhat))\n",
    "    J = (-1./m) * (y.T@np.log(yhatClipped) + (1-y.T)@np.log(1-yhatClipped))\n",
    "    np.squeeze(J)\n",
    "    \n",
    "    # backward propagation (calculate current gradient)\n",
    "    ### (1.3) YOUR CODE HERE\n",
    "    dJ_dw = (1/m)*X.T@(yhat - y)\n",
    "    \n",
    "    dJ_db = (1/m)*np.sum((yhat-y),axis=0,keepdims=True)\n",
    "    \n",
    "    # gradient descent (update parameters)\n",
    "    ### (1.4) YOUR CODE HERE\n",
    "    w = w - alpha*dJ_dw\n",
    "    \n",
    "    b = b - alpha*dJ_db\n",
    "    \n",
    "    # append loss to costs (remember to squeeze J!)\n",
    "    ### (1.5) YOUR COD HERE\n",
    "    costs.append(J[0,0])\n",
    "\n",
    "# use final parameters w and b to calcualte accuracy for training data X, y\n",
    "#  - do a single forward pass for X: calcualte z, yhat\n",
    "#  - set yhat to round(yhat) (that is, thresholding binary classification prediction at 0.5)\n",
    "#  - calcualte accuracy_score(y, yhat) and print it\n",
    "### (1.6) YOUR CODE HERE\n",
    "z = X@w + b\n",
    "    \n",
    "yhat = scipy.special.expit(z)\n",
    "    \n",
    "eps=1e-8\n",
    "yhatClipped = np.maximum(eps, np.minimum(1 - eps, yhat))\n",
    "y_pred = yhatClipped.round()\n",
    "\n",
    "print(accuracy_score(y,y_pred))\n",
    "\n",
    "# plot the costs against iterations and show plot\n",
    "### (1.7) YOUR CODE HERE\n",
    "plt.plot(costs)\n",
    "plt.title('Costs per iterations')\n",
    "plt.show()"
   ]
  },
  {
   "cell_type": "code",
   "execution_count": 4,
   "metadata": {},
   "outputs": [
    {
     "name": "stdout",
     "output_type": "stream",
     "text": [
      "0.92\n"
     ]
    }
   ],
   "source": [
    "### DO NOT EDIT THIS CELL!!!\n",
    "\n",
    "# compare results from your implementation to that of SGDClassifier\n",
    "# your accuracy score above should match (or be very close to) what you get from here\n",
    "\n",
    "nepochs = 5000\n",
    "alpha = 2.5e-6\n",
    "y = y.reshape(y.shape[0],) # to avoid warning\n",
    "\n",
    "from sklearn.linear_model import SGDClassifier\n",
    "clf = SGDClassifier(loss='log', # loss function for logistic regression\n",
    "                    penalty=None, alpha=0, # no regularization\n",
    "                    max_iter=nepochs, tol=None, # stop based only on nepochs\n",
    "                    shuffle=False, random_state=0, # don't shuffle, use random state to replicate results\n",
    "                    learning_rate='constant', eta0=alpha) # constant learning rate of alpha\n",
    "clf.fit(X,y)\n",
    "print (round(clf.score(X,y),2))"
   ]
  },
  {
   "cell_type": "markdown",
   "metadata": {},
   "source": [
    "### Part 2\n",
    "\n",
    "* Linear Regression using the diabetes dataset \n",
    "\n",
    "* We aren't going to preprocess data or split into train/test since the focus here is purely on the gradient descent algorithm\n",
    "\n",
    "* NOTE: YOU WILL ONLY EDIT ONE CELL FOR PART-2 (SEE BELOW)"
   ]
  },
  {
   "cell_type": "code",
   "execution_count": 5,
   "metadata": {},
   "outputs": [
    {
     "name": "stdout",
     "output_type": "stream",
     "text": [
      "X:  (442, 10)\n",
      "y:  (442, 1)\n",
      "m:  442\n",
      "n:  10\n",
      "features:  ['age', 'sex', 'bmi', 'bp', 's1', 's2', 's3', 's4', 's5', 's6']\n"
     ]
    }
   ],
   "source": [
    "### DO NOT EDIT THIS CELL!!!\n",
    "\n",
    "# read the diabetes dataset from sklearn\n",
    "from sklearn.datasets import load_diabetes\n",
    "\n",
    "dataset = load_diabetes()\n",
    "\n",
    "# feature matrix X: mxn\n",
    "X = dataset.data\n",
    "print (\"X: \", X.shape)\n",
    "\n",
    "# target vector y: mx1\n",
    "y = dataset.target\n",
    "y = y.reshape(y.shape[0], 1)\n",
    "print (\"y: \", y.shape)\n",
    "\n",
    "# number of samples: m\n",
    "m = X.shape[0]\n",
    "print (\"m: \", m)\n",
    "\n",
    "# number of features: n\n",
    "n = X.shape[1]\n",
    "features = dataset.feature_names\n",
    "print (\"n: \",n)\n",
    "print (\"features: \", features)"
   ]
  },
  {
   "cell_type": "code",
   "execution_count": 6,
   "metadata": {},
   "outputs": [
    {
     "name": "stdout",
     "output_type": "stream",
     "text": [
      "2880.488150188168\n",
      "0.514242147990263\n"
     ]
    },
    {
     "data": {
      "image/png": "[encoded data removed]",
      "text/plain": [
       "<Figure size 432x288 with 1 Axes>"
      ]
     },
     "metadata": {
      "needs_background": "light"
     },
     "output_type": "display_data"
    }
   ],
   "source": [
    "### THIS IS THE ONLY CELL YOU MUST EDIT FOR PART-2\n",
    "\n",
    "# train the linear regression model\n",
    "\n",
    "# initialize nepochs and alpha\n",
    "nepochs = 5000\n",
    "alpha = 0.5\n",
    "\n",
    "# initialize w and b\n",
    "w = np.zeros((n,1))\n",
    "b = 0\n",
    "\n",
    "# this list will collect loss for each iteration\n",
    "costs = []\n",
    "\n",
    "# repeat for nepochs\n",
    "### (2.1) YOUR CODE HERE\n",
    "for i in range(nepochs):\n",
    "        \n",
    "    # forward pass (calculate current loss)\n",
    "    ### (2.2) YOUR CODE HERE\n",
    "    z = X@w + b\n",
    "    \n",
    "    yhat = z\n",
    "    \n",
    "    J = (1./(2*m)) * (np.transpose(yhat-y)@(yhat-y))\n",
    "    np.squeeze(J)\n",
    "    \n",
    "    # backward propagation (calculate current gradient)\n",
    "    ### (2.3) YOUR CODE HERE\n",
    "    dJ_dw = (1/m)*X.T@(yhat - y)\n",
    "    \n",
    "    dJ_db = (1/m)*np.sum((yhat-y),axis=0,keepdims=True)\n",
    "    \n",
    "    # gradient descent (update parameters)\n",
    "    ### (2.4) YOUR CODE HERE\n",
    "    w = w - alpha*dJ_dw\n",
    "    \n",
    "    b = b - alpha*dJ_db\n",
    "    \n",
    "    # append loss to costs (remember to squeeze J!)\n",
    "    ### (2.5) YOUR COD HERE\n",
    "    costs.append(J[0,0])\n",
    "\n",
    "# use final parameters w and b to calcualte mse and r2 for training data X, y\n",
    "#  - do a single forward pass for X: calcualte z, yhat\n",
    "#  - calculate mean_squared_error(y, yhat) and print it\n",
    "#  - calculate r2_score(y, yhat) and print it\n",
    "### (2.6) YOUR CODE HERE\n",
    "z = X@w + b\n",
    "yhat = z\n",
    "print(mean_squared_error(y,yhat))\n",
    "print(r2_score(y,yhat))\n",
    "\n",
    "\n",
    "# plot the costs against iterations and show plot\n",
    "### (2.7) YOUR CODE HERE\n",
    "plt.plot(costs)\n",
    "plt.title('Costs per iterations')\n",
    "plt.show()"
   ]
  },
  {
   "cell_type": "code",
   "execution_count": 7,
   "metadata": {},
   "outputs": [
    {
     "name": "stdout",
     "output_type": "stream",
     "text": [
      "2922.88\n",
      "0.51\n"
     ]
    }
   ],
   "source": [
    "### DO NOT EDIT THIS CELL!!!\n",
    "\n",
    "# compare results from our implementation to that of SGDRegressor\n",
    "# your mse and r2 score above should match (or be very close to) what you get from here\n",
    "\n",
    "nepochs = 5000\n",
    "alpha = 0.5\n",
    "y = y.reshape(y.shape[0],) # to avoid warning\n",
    "\n",
    "from sklearn.linear_model import SGDRegressor\n",
    "clf = SGDRegressor(loss='squared_loss', # mse for linear regression\n",
    "                    penalty=None, alpha=0, # no regularization\n",
    "                    max_iter=nepochs, tol=None, # stop based on only on nepochs\n",
    "                    shuffle=False, random_state=0, # don't shuffle, use random state to replicate results\n",
    "                    learning_rate='constant', eta0=alpha) # constant learning rate of alpha\n",
    "clf.fit(X,y)\n",
    "yhat = clf.predict(X)\n",
    "print (round(mean_squared_error(y, yhat),2))\n",
    "print (round(clf.score(X,y),2))"
   ]
  },
  {
   "cell_type": "code",
   "execution_count": null,
   "metadata": {},
   "outputs": [],
   "source": []
  }
 ],
 "metadata": {
  "kernelspec": {
   "display_name": "Python 3",
   "language": "python",
   "name": "python3"
  },
  "language_info": {
   "codemirror_mode": {
    "name": "ipython",
    "version": 3
   },
   "file_extension": ".py",
   "mimetype": "text/x-python",
   "name": "python",
   "nbconvert_exporter": "python",
   "pygments_lexer": "ipython3",
   "version": "3.8.8"
  }
 },
 "nbformat": 4,
 "nbformat_minor": 2
}
